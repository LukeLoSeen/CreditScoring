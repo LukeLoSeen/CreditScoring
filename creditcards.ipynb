{
 "cells": [
  {
   "cell_type": "code",
   "execution_count": 269,
   "metadata": {},
   "outputs": [
    {
     "name": "stderr",
     "output_type": "stream",
     "text": [
      "/home/latruite/.local/lib/python2.7/site-packages/sklearn/cross_validation.py:44: DeprecationWarning: This module was deprecated in version 0.18 in favor of the model_selection module into which all the refactored classes and functions are moved. Also note that the interface of the new CV iterators are different from that of this module. This module will be removed in 0.20.\n",
      "  \"This module will be removed in 0.20.\", DeprecationWarning)\n"
     ]
    }
   ],
   "source": [
    "import pandas as pd\n",
    "import numpy as np\n",
    "import matplotlib.pyplot as plt\n",
    "\n",
    "from patsy import dmatrices\n",
    "from sklearn.linear_model import LogisticRegression\n",
    "from sklearn.cross_validation import train_test_split\n",
    "from sklearn import metrics\n",
    "from sklearn.cross_validation import cross_val_score"
   ]
  },
  {
   "cell_type": "code",
   "execution_count": 225,
   "metadata": {
    "collapsed": true
   },
   "outputs": [],
   "source": [
    "path = \"/media/latruite/DATA/Data/studycase/\"\n",
    "csvfile = \"cleaned_UCI_Credit_Card.csv\""
   ]
  },
  {
   "cell_type": "code",
   "execution_count": 226,
   "metadata": {},
   "outputs": [],
   "source": [
    "data = pd.read_csv(path + csvfile)\n",
    "n = len(data)"
   ]
  },
  {
   "cell_type": "code",
   "execution_count": 227,
   "metadata": {
    "collapsed": true
   },
   "outputs": [],
   "source": [
    "\"\"\"\n",
    "    ID: ID of each client\n",
    "    LIMIT_BAL: Amount of given credit in NT dollars (includes individual and family/supplementary credit\n",
    "    SEX: Gender (1=male, 2=female)\n",
    "    EDUCATION: (1=graduate school, 2=university, 3=high school, 4=others, 5=unknown, 6=unknown)\n",
    "    MARRIAGE: Marital status (1=married, 2=single, 3=others)\n",
    "    AGE: Age in years\n",
    "    PAY_0: Repayment status in September, 2005 (-1=pay duly, 1=payment delay for one month, 2=payment delay for two months, ... 8=payment delay for eight months, 9=payment delay for nine months and above)\n",
    "    PAY_2: Repayment status in August, 2005 (scale same as above)\n",
    "    PAY_3: Repayment status in July, 2005 (scale same as above)\n",
    "    PAY_4: Repayment status in June, 2005 (scale same as above)\n",
    "    PAY_5: Repayment status in May, 2005 (scale same as above)\n",
    "    PAY_6: Repayment status in April, 2005 (scale same as above)\n",
    "    BILL_AMT1: Amount of bill statement in September, 2005 (NT dollar)\n",
    "    BILL_AMT2: Amount of bill statement in August, 2005 (NT dollar)\n",
    "    BILL_AMT3: Amount of bill statement in July, 2005 (NT dollar)\n",
    "    BILL_AMT4: Amount of bill statement in June, 2005 (NT dollar)\n",
    "    BILL_AMT5: Amount of bill statement in May, 2005 (NT dollar)\n",
    "    BILL_AMT6: Amount of bill statement in April, 2005 (NT dollar)\n",
    "    PAY_AMT1: Amount of previous payment in September, 2005 (NT dollar)\n",
    "    PAY_AMT2: Amount of previous payment in August, 2005 (NT dollar)\n",
    "    PAY_AMT3: Amount of previous payment in July, 2005 (NT dollar)\n",
    "    PAY_AMT4: Amount of previous payment in June, 2005 (NT dollar)\n",
    "    PAY_AMT5: Amount of previous payment in May, 2005 (NT dollar)\n",
    "    PAY_AMT6: Amount of previous payment in April, 2005 (NT dollar)\n",
    "    default.payment.next.month: Default payment (1=yes, 0=no)\n",
    "\"\"\""
   ]
  },
  {
   "cell_type": "markdown",
   "metadata": {},
   "source": [
    "# Data visualization"
   ]
  },
  {
   "cell_type": "code",
   "execution_count": 228,
   "metadata": {},
   "outputs": [],
   "source": [
    "def proportiontest (pa, pb, na, nb):\n",
    "    pc = (na*pa + nb*pb) / (na + nb)\n",
    "    z = abs((pa - pb) / (pc*(1-pc)*(1./na + 1./nb))**0.5)\n",
    "    if z > 1.96:\n",
    "        return str(z) + \" > 1.96 :  Significative at 95% level\"\n",
    "    else:\n",
    "        return str(z) + \" < 1.96 :  Non significative at 95% level\""
   ]
  },
  {
   "cell_type": "markdown",
   "metadata": {},
   "source": [
    "## Looking at variable sex"
   ]
  },
  {
   "cell_type": "code",
   "execution_count": 229,
   "metadata": {},
   "outputs": [
    {
     "data": {
      "image/png": "[encoded data removed]",
      "text/plain": [
       "<matplotlib.figure.Figure at 0x7fe30b357b50>"
      ]
     },
     "metadata": {},
     "output_type": "display_data"
    }
   ],
   "source": [
    "data.groupby(\"SEX\")[\"default.payment.next.month\"].mean().plot(kind=\"bar\")\n",
    "plt.title(\"Proportion of non payment per sex\")\n",
    "plt.xticks([0, 1], [\"Male\", \"Female\"])\n",
    "plt.show()"
   ]
  },
  {
   "cell_type": "code",
   "execution_count": 230,
   "metadata": {},
   "outputs": [
    {
     "name": "stdout",
     "output_type": "stream",
     "text": [
      "Test of the difference of proportions of non payment between the two sexes\n",
      "6.92137508856 > 1.96 :  Significative at 95% level\n"
     ]
    }
   ],
   "source": [
    "dat = data.groupby(\"SEX\")[\"default.payment.next.month\"].mean()\n",
    "print(\"Test of the difference of proportions of non payment between the two sexes\")\n",
    "print( proportiontest(dat[1], dat[2], len(data[data.SEX == 1]), len(data[data.SEX == 2])) )"
   ]
  },
  {
   "cell_type": "markdown",
   "metadata": {},
   "source": [
    "We observe that men are more likely to fail pay"
   ]
  },
  {
   "cell_type": "code",
   "execution_count": null,
   "metadata": {
    "collapsed": true
   },
   "outputs": [],
   "source": [
    "data.SEX = data.SEX.replace(1, 0).replace(2,1)"
   ]
  },
  {
   "cell_type": "markdown",
   "metadata": {},
   "source": [
    "## Education"
   ]
  },
  {
   "cell_type": "code",
   "execution_count": 231,
   "metadata": {},
   "outputs": [
    {
     "data": {
      "image/png": "[encoded data removed]",
      "text/plain": [
       "<matplotlib.figure.Figure at 0x7fe30b322990>"
      ]
     },
     "metadata": {},
     "output_type": "display_data"
    }
   ],
   "source": [
    "data.groupby(\"EDUCATION\")[\"default.payment.next.month\"].count().plot(kind=\"bar\")\n",
    "plt.xticks([0, 1 ,2 ,3 ,4 ,5 ,6], [\"\", \"Graduate\", \"Univeristy\", \"Highschool\", \"Others\", \"Unknown\", \"Unknown\"])\n",
    "plt.title(\"Distribution of education level\")\n",
    "plt.show()"
   ]
  },
  {
   "cell_type": "code",
   "execution_count": 232,
   "metadata": {},
   "outputs": [
    {
     "data": {
      "text/plain": [
       "0.0156"
      ]
     },
     "execution_count": 232,
     "metadata": {},
     "output_type": "execute_result"
    }
   ],
   "source": [
    "len(data[data.EDUCATION.isin([0, 4, 5 ,6])])*1./n"
   ]
  },
  {
   "cell_type": "markdown",
   "metadata": {},
   "source": [
    "We observe that people Whom we do not know the level of education represent 1.5% of the population"
   ]
  },
  {
   "cell_type": "code",
   "execution_count": 233,
   "metadata": {},
   "outputs": [
    {
     "data": {
      "image/png": "[encoded data removed]",
      "text/plain": [
       "<matplotlib.figure.Figure at 0x7fe30b5e3cd0>"
      ]
     },
     "metadata": {},
     "output_type": "display_data"
    }
   ],
   "source": [
    "data.groupby(\"EDUCATION\")[\"default.payment.next.month\"].mean().plot(kind=\"bar\")\n",
    "plt.xticks([0, 1 ,2 ,3 ,4 ,5 ,6], [\"\", \"Graduate\", \"Univeristy\", \"Highschool\", \"Others\", \"Unknown\", \"Unknown\"])\n",
    "plt.title(\"Proportion of non payment per education level\")\n",
    "plt.show()"
   ]
  },
  {
   "cell_type": "code",
   "execution_count": 234,
   "metadata": {},
   "outputs": [
    {
     "name": "stdout",
     "output_type": "stream",
     "text": [
      "Tests of proportion of non payment between different education levels\n",
      "8.46575594987 > 1.96 :  Significative at 95% level\n",
      "2.0071814886 > 1.96 :  Significative at 95% level\n"
     ]
    }
   ],
   "source": [
    "dat = data.groupby(\"EDUCATION\")[\"default.payment.next.month\"].mean()\n",
    "print(\"Tests of proportion of non payment between different education levels\")\n",
    "print( proportiontest(dat[1], dat[2], len(data[data.EDUCATION == 1]), len(data[data.EDUCATION == 2])) )\n",
    "print( proportiontest(dat[2], dat[3], len(data[data.EDUCATION == 2]), len(data[data.EDUCATION == 3])) )"
   ]
  },
  {
   "cell_type": "markdown",
   "metadata": {},
   "source": [
    "Moreover, we observe a certain correlation (negative) of the non payment proportion with the level of education and we decide therefore to drop observations whose this variable is unknown"
   ]
  },
  {
   "cell_type": "code",
   "execution_count": 235,
   "metadata": {},
   "outputs": [],
   "source": [
    "data = data[data.EDUCATION.isin([1, 2, 3])]"
   ]
  },
  {
   "cell_type": "markdown",
   "metadata": {
    "collapsed": true
   },
   "source": [
    "## Mariage"
   ]
  },
  {
   "cell_type": "code",
   "execution_count": 236,
   "metadata": {},
   "outputs": [
    {
     "data": {
      "image/png": "[encoded data removed]",
      "text/plain": [
       "<matplotlib.figure.Figure at 0x7fe317fa7ed0>"
      ]
     },
     "metadata": {},
     "output_type": "display_data"
    }
   ],
   "source": [
    "data.groupby(\"MARRIAGE\")[\"default.payment.next.month\"].count().plot(kind=\"bar\")\n",
    "plt.xticks([1, 2 ,3], [\"Married\", \"Single\", \"Others\"])\n",
    "plt.title(\"Distribution of education level\")\n",
    "plt.show()"
   ]
  },
  {
   "cell_type": "code",
   "execution_count": 237,
   "metadata": {},
   "outputs": [
    {
     "data": {
      "image/png": "[encoded data removed]",
      "text/plain": [
       "<matplotlib.figure.Figure at 0x7fe30b095610>"
      ]
     },
     "metadata": {},
     "output_type": "display_data"
    }
   ],
   "source": [
    "data.groupby(\"MARRIAGE\")[\"default.payment.next.month\"].mean().plot(kind=\"bar\")\n",
    "plt.title(\"Proportion of non payment per marital status\")\n",
    "plt.xticks([1, 2 ,3], [\"Married\", \"Single\", \"Others\"])\n",
    "plt.show()"
   ]
  },
  {
   "cell_type": "code",
   "execution_count": 238,
   "metadata": {},
   "outputs": [
    {
     "name": "stdout",
     "output_type": "stream",
     "text": [
      "Test of difference of proportions of non payment between the two types of marital status\n",
      "5.36854633982 > 1.96 :  Significative at 95% level\n"
     ]
    }
   ],
   "source": [
    "dat = data.groupby(\"MARRIAGE\")[\"default.payment.next.month\"].mean()\n",
    "print(\"Test of difference of proportions of non payment between the two types of marital status\")\n",
    "print( proportiontest(dat[1], dat[2], len(data[data.MARRIAGE == 1]), len(data[data.MARRIAGE == 2])) )"
   ]
  },
  {
   "cell_type": "markdown",
   "metadata": {},
   "source": [
    "same as previously.."
   ]
  },
  {
   "cell_type": "code",
   "execution_count": 239,
   "metadata": {
    "collapsed": true
   },
   "outputs": [],
   "source": [
    "data = data[data.MARRIAGE.isin([1, 2])]\n",
    "n = len(data)\n",
    "data.index = range(n)"
   ]
  },
  {
   "cell_type": "markdown",
   "metadata": {},
   "source": [
    "## Age"
   ]
  },
  {
   "cell_type": "code",
   "execution_count": 240,
   "metadata": {},
   "outputs": [
    {
     "data": {
      "image/png": "[encoded data removed]",
      "text/plain": [
       "<matplotlib.figure.Figure at 0x7fe30baa2f10>"
      ]
     },
     "metadata": {},
     "output_type": "display_data"
    }
   ],
   "source": [
    "data.groupby(\"AGE\")[\"default.payment.next.month\"].count().plot()\n",
    "plt.title(\"Distribution of age\")\n",
    "plt.show()"
   ]
  },
  {
   "cell_type": "code",
   "execution_count": 241,
   "metadata": {},
   "outputs": [
    {
     "data": {
      "image/png": "[encoded data removed]",
      "text/plain": [
       "<matplotlib.figure.Figure at 0x7fe30b611e50>"
      ]
     },
     "metadata": {},
     "output_type": "display_data"
    }
   ],
   "source": [
    "data.groupby(\"AGE\")[\"default.payment.next.month\"].mean().plot()\n",
    "plt.title(\"Proportion of non payment per age\")\n",
    "plt.show()"
   ]
  },
  {
   "cell_type": "markdown",
   "metadata": {},
   "source": [
    "let cut age in 4 parts (30, 40, 50)"
   ]
  },
  {
   "cell_type": "code",
   "execution_count": 242,
   "metadata": {},
   "outputs": [
    {
     "data": {
      "text/plain": [
       "0.20626322471434616"
      ]
     },
     "execution_count": 242,
     "metadata": {},
     "output_type": "execute_result"
    }
   ],
   "source": [
    "data[data.AGE.between(30,40)][\"default.payment.next.month\"].mean()"
   ]
  },
  {
   "cell_type": "code",
   "execution_count": 243,
   "metadata": {},
   "outputs": [
    {
     "name": "stdout",
     "output_type": "stream",
     "text": [
      "PA = 0.230630630631 ; PB = 0.205445769966 ; PC = 0.231402291431 ; PD = 0.254117647059\n"
     ]
    }
   ],
   "source": [
    "PA = data[data.AGE < 30][\"default.payment.next.month\"].mean()\n",
    "PB = data[data.AGE.between(30, 39, inclusive = True)][\"default.payment.next.month\"].mean()\n",
    "PC = data[data.AGE.between(40, 49, inclusive = True)][\"default.payment.next.month\"].mean()\n",
    "PD = data[data.AGE >= 50][\"default.payment.next.month\"].mean()\n",
    "NA = len(data[data.AGE < 30])\n",
    "NB = len(data[data.AGE.between(30, 39, inclusive = True)])\n",
    "NC = len(data.AGE.between(40, 49, inclusive = True))\n",
    "ND = len(data[data.AGE >= 50])\n",
    "print (\"PA = \" + str(PA) + \" ; PB = \" + str(PB) + \" ; PC = \" + str(PC) + \" ; PD = \" + str(PD))"
   ]
  },
  {
   "cell_type": "code",
   "execution_count": 244,
   "metadata": {},
   "outputs": [
    {
     "name": "stdout",
     "output_type": "stream",
     "text": [
      "2.60113611425 > 1.96 :  Significative at 95% level\n",
      "0.154533098744 < 1.96 :  Non significative at 95% level\n",
      "4.35185250571 > 1.96 :  Significative at 95% level\n"
     ]
    }
   ],
   "source": [
    "print(proportiontest(PC, PD, NC, ND))\n",
    "print(proportiontest(PC, PA, NC, NA))\n",
    "print(proportiontest(PB, PA, NB, NA))"
   ]
  },
  {
   "cell_type": "markdown",
   "metadata": {},
   "source": [
    "We can divde age in 3 groups ([20, 29] U [40, 49] ; [30,39] ; [50,++])"
   ]
  },
  {
   "cell_type": "code",
   "execution_count": 245,
   "metadata": {
    "collapsed": true
   },
   "outputs": [],
   "source": [
    "groupA = [0]*n\n",
    "groupB = [0]*n\n",
    "for i in range(n):\n",
    "    age = data.AGE[i]\n",
    "    if age < 30 or (age >= 40 and age < 50):\n",
    "        groupA[i] = 1\n",
    "    elif age >= 30 and age < 40:\n",
    "        groupB[i] = 1\n",
    "data[\"AGEA\"] = groupA\n",
    "data[\"AGEB\"] = groupB"
   ]
  },
  {
   "cell_type": "markdown",
   "metadata": {},
   "source": [
    "## PAY_ ..."
   ]
  },
  {
   "cell_type": "code",
   "execution_count": 246,
   "metadata": {},
   "outputs": [
    {
     "data": {
      "image/png": "[encoded data removed]",
      "text/plain": [
       "<matplotlib.figure.Figure at 0x7fe30b447550>"
      ]
     },
     "metadata": {},
     "output_type": "display_data"
    }
   ],
   "source": [
    "data.groupby(\"PAY_0\")[\"default.payment.next.month\"].mean().plot(kind = \"bar\")\n",
    "plt.title(\"Proportion of non payment per month -1 payment status\")\n",
    "plt.xlabel(\"Payment status at month -1\")\n",
    "plt.show()"
   ]
  },
  {
   "cell_type": "code",
   "execution_count": 261,
   "metadata": {},
   "outputs": [
    {
     "data": {
      "image/png": "[encoded data removed]",
      "text/plain": [
       "<matplotlib.figure.Figure at 0x7fe2ff900190>"
      ]
     },
     "metadata": {},
     "output_type": "display_data"
    }
   ],
   "source": [
    "data.groupby(\"PAY_0\")[\"default.payment.next.month\"].mean().plot(kind = \"bar\")\n",
    "plt.title(\"Proportion of non payment per month -1 payment status\")\n",
    "plt.xlabel(\"Payment status at month -1\")\n",
    "plt.show()"
   ]
  },
  {
   "cell_type": "markdown",
   "metadata": {},
   "source": [
    "we observe the same for pay 1 2 ... => divide in 3 parts (<= 0 ; 1 ; >= 2)"
   ]
  },
  {
   "cell_type": "code",
   "execution_count": 248,
   "metadata": {},
   "outputs": [
    {
     "data": {
      "text/html": [
       "<div>\n",
       "<table border=\"1\" class=\"dataframe\">\n",
       "  <thead>\n",
       "    <tr style=\"text-align: right;\">\n",
       "      <th></th>\n",
       "      <th>PAY_0</th>\n",
       "      <th>PAY_2</th>\n",
       "      <th>PAY_3</th>\n",
       "      <th>PAY_4</th>\n",
       "      <th>PAY_5</th>\n",
       "      <th>PAY_6</th>\n",
       "    </tr>\n",
       "  </thead>\n",
       "  <tbody>\n",
       "    <tr>\n",
       "      <th>PAY_0</th>\n",
       "      <td>1.000000</td>\n",
       "      <td>0.672171</td>\n",
       "      <td>0.574688</td>\n",
       "      <td>0.539288</td>\n",
       "      <td>0.509766</td>\n",
       "      <td>0.475009</td>\n",
       "    </tr>\n",
       "    <tr>\n",
       "      <th>PAY_2</th>\n",
       "      <td>0.672171</td>\n",
       "      <td>1.000000</td>\n",
       "      <td>0.766798</td>\n",
       "      <td>0.662358</td>\n",
       "      <td>0.622381</td>\n",
       "      <td>0.575597</td>\n",
       "    </tr>\n",
       "    <tr>\n",
       "      <th>PAY_3</th>\n",
       "      <td>0.574688</td>\n",
       "      <td>0.766798</td>\n",
       "      <td>1.000000</td>\n",
       "      <td>0.777441</td>\n",
       "      <td>0.686602</td>\n",
       "      <td>0.633524</td>\n",
       "    </tr>\n",
       "    <tr>\n",
       "      <th>PAY_4</th>\n",
       "      <td>0.539288</td>\n",
       "      <td>0.662358</td>\n",
       "      <td>0.777441</td>\n",
       "      <td>1.000000</td>\n",
       "      <td>0.820059</td>\n",
       "      <td>0.717384</td>\n",
       "    </tr>\n",
       "    <tr>\n",
       "      <th>PAY_5</th>\n",
       "      <td>0.509766</td>\n",
       "      <td>0.622381</td>\n",
       "      <td>0.686602</td>\n",
       "      <td>0.820059</td>\n",
       "      <td>1.000000</td>\n",
       "      <td>0.817649</td>\n",
       "    </tr>\n",
       "    <tr>\n",
       "      <th>PAY_6</th>\n",
       "      <td>0.475009</td>\n",
       "      <td>0.575597</td>\n",
       "      <td>0.633524</td>\n",
       "      <td>0.717384</td>\n",
       "      <td>0.817649</td>\n",
       "      <td>1.000000</td>\n",
       "    </tr>\n",
       "  </tbody>\n",
       "</table>\n",
       "</div>"
      ],
      "text/plain": [
       "          PAY_0     PAY_2     PAY_3     PAY_4     PAY_5     PAY_6\n",
       "PAY_0  1.000000  0.672171  0.574688  0.539288  0.509766  0.475009\n",
       "PAY_2  0.672171  1.000000  0.766798  0.662358  0.622381  0.575597\n",
       "PAY_3  0.574688  0.766798  1.000000  0.777441  0.686602  0.633524\n",
       "PAY_4  0.539288  0.662358  0.777441  1.000000  0.820059  0.717384\n",
       "PAY_5  0.509766  0.622381  0.686602  0.820059  1.000000  0.817649\n",
       "PAY_6  0.475009  0.575597  0.633524  0.717384  0.817649  1.000000"
      ]
     },
     "execution_count": 248,
     "metadata": {},
     "output_type": "execute_result"
    }
   ],
   "source": [
    "data[[\"PAY_0\", \"PAY_2\", \"PAY_3\", \"PAY_4\", \"PAY_5\", \"PAY_6\"]].corr()"
   ]
  },
  {
   "cell_type": "markdown",
   "metadata": {},
   "source": [
    "strong colinearity among previous payment status"
   ]
  },
  {
   "cell_type": "code",
   "execution_count": 249,
   "metadata": {},
   "outputs": [
    {
     "data": {
      "text/plain": [
       "default.payment.next.month    1.000000\n",
       "PAY_0                         0.327230\n",
       "PAY_2                         0.263981\n",
       "PAY_3                         0.234362\n",
       "PAY_4                         0.214627\n",
       "PAY_5                         0.203990\n",
       "PAY_6                         0.187013\n",
       "Name: default.payment.next.month, dtype: float64"
      ]
     },
     "execution_count": 249,
     "metadata": {},
     "output_type": "execute_result"
    }
   ],
   "source": [
    "data[[\"default.payment.next.month\", \"PAY_0\", \"PAY_2\", \"PAY_3\", \"PAY_4\", \"PAY_5\", \"PAY_6\"]].corr()[\"default.payment.next.month\"]"
   ]
  },
  {
   "cell_type": "markdown",
   "metadata": {},
   "source": [
    "we retain the most correlated with default payment (PAY_0)"
   ]
  },
  {
   "cell_type": "code",
   "execution_count": 250,
   "metadata": {
    "collapsed": true
   },
   "outputs": [],
   "source": [
    "groupA = [0]*n\n",
    "groupB = [0]*n\n",
    "for i in range(n):\n",
    "    pay0 = data.PAY_0[i]\n",
    "    if pay0 == 1:\n",
    "        groupA[i] = 1\n",
    "    elif pay0 >= 2:\n",
    "        groupB[i] = 1\n",
    "data[\"PAY0A\"] = groupA\n",
    "data[\"PAY0B\"] = groupB"
   ]
  },
  {
   "cell_type": "markdown",
   "metadata": {},
   "source": [
    "## Bill et Pay amounts"
   ]
  },
  {
   "cell_type": "code",
   "execution_count": 260,
   "metadata": {},
   "outputs": [
    {
     "data": {
      "text/plain": [
       "default.payment.next.month    1.000000\n",
       "PAY_AMT1                     -0.076875\n",
       "PAY_AMT2                     -0.060498\n",
       "PAY_AMT3                     -0.057326\n",
       "PAY_AMT4                     -0.057570\n",
       "PAY_AMT5                     -0.055789\n",
       "PAY_AMT6                     -0.054372\n",
       "BILL_AMT1                    -0.019072\n",
       "BILL_AMT2                    -0.013648\n",
       "BILL_AMT3                    -0.013589\n",
       "BILL_AMT4                    -0.009542\n",
       "BILL_AMT5                    -0.006150\n",
       "BILL_AMT6                    -0.004862\n",
       "Name: default.payment.next.month, dtype: float64"
      ]
     },
     "execution_count": 260,
     "metadata": {},
     "output_type": "execute_result"
    }
   ],
   "source": [
    "paylist = [\"PAY_AMT\"+str(i+1) for i in range(6)]\n",
    "billlist = [\"BILL_AMT\"+str(i+1) for i in range(6)]\n",
    "data[[\"default.payment.next.month\"] + paylist + billlist].corr()[\"default.payment.next.month\"]"
   ]
  },
  {
   "cell_type": "markdown",
   "metadata": {},
   "source": [
    "these variables do not seem to be much more correlated with next month default payment so we won't use them for now"
   ]
  },
  {
   "cell_type": "markdown",
   "metadata": {},
   "source": [
    "## Credit amount"
   ]
  },
  {
   "cell_type": "code",
   "execution_count": 335,
   "metadata": {},
   "outputs": [
    {
     "data": {
      "image/png": "[encoded data removed]",
      "text/plain": [
       "<matplotlib.figure.Figure at 0x7fe2fb356350>"
      ]
     },
     "metadata": {},
     "output_type": "display_data"
    }
   ],
   "source": [
    "data.groupby(\"default.payment.next.month\").mean()[\"LIMIT_BAL\"].plot(kind = \"bar\")\n",
    "plt.title(\"Average credit amount by payment status\")\n",
    "plt.xticks([0, 1], [\"Paid\", \"Did not paid\"])\n",
    "plt.show()"
   ]
  },
  {
   "cell_type": "markdown",
   "metadata": {},
   "source": [
    "we observe a significative difference, let see how payment proportion is distributed among credit amounts"
   ]
  },
  {
   "cell_type": "code",
   "execution_count": 341,
   "metadata": {},
   "outputs": [
    {
     "data": {
      "image/png": "[encoded data removed]",
      "text/plain": [
       "<matplotlib.figure.Figure at 0x7fe2fb1b8ed0>"
      ]
     },
     "metadata": {},
     "output_type": "display_data"
    }
   ],
   "source": [
    "data.groupby(\"LIMIT_BAL\").mean()[\"default.payment.next.month\"].plot()\n",
    "plt.title(\"Non payment proportion distribution among credit amounts\")\n",
    "plt.show()"
   ]
  },
  {
   "cell_type": "markdown",
   "metadata": {},
   "source": [
    "non payment propensity seems to be negatively correlated with credit amount, indeed we observe a slight correlation coefficient :"
   ]
  },
  {
   "cell_type": "code",
   "execution_count": 344,
   "metadata": {},
   "outputs": [
    {
     "data": {
      "text/html": [
       "<div>\n",
       "<table border=\"1\" class=\"dataframe\">\n",
       "  <thead>\n",
       "    <tr style=\"text-align: right;\">\n",
       "      <th></th>\n",
       "      <th>default.payment.next.month</th>\n",
       "      <th>LIMIT_BAL</th>\n",
       "    </tr>\n",
       "  </thead>\n",
       "  <tbody>\n",
       "    <tr>\n",
       "      <th>default.payment.next.month</th>\n",
       "      <td>1.000000</td>\n",
       "      <td>-0.153576</td>\n",
       "    </tr>\n",
       "    <tr>\n",
       "      <th>LIMIT_BAL</th>\n",
       "      <td>-0.153576</td>\n",
       "      <td>1.000000</td>\n",
       "    </tr>\n",
       "  </tbody>\n",
       "</table>\n",
       "</div>"
      ],
      "text/plain": [
       "                            default.payment.next.month  LIMIT_BAL\n",
       "default.payment.next.month                    1.000000  -0.153576\n",
       "LIMIT_BAL                                    -0.153576   1.000000"
      ]
     },
     "execution_count": 344,
     "metadata": {},
     "output_type": "execute_result"
    }
   ],
   "source": [
    "data[[\"default.payment.next.month\", \"LIMIT_BAL\"]].corr()"
   ]
  },
  {
   "cell_type": "markdown",
   "metadata": {},
   "source": [
    "let now see how credit amounts are distributed"
   ]
  },
  {
   "cell_type": "code",
   "execution_count": 350,
   "metadata": {},
   "outputs": [
    {
     "data": {
      "image/png": "[encoded data removed]",
      "text/plain": [
       "<matplotlib.figure.Figure at 0x7fe30c9ff8d0>"
      ]
     },
     "metadata": {},
     "output_type": "display_data"
    }
   ],
   "source": [
    "data.groupby(\"LIMIT_BAL\").count()[\"default.payment.next.month\"].plot()\n",
    "plt.title(\"Credit amounts distribution\")\n",
    "plt.show()"
   ]
  },
  {
   "cell_type": "markdown",
   "metadata": {},
   "source": [
    "let devide it in 3 parts (200k, 400k)"
   ]
  },
  {
   "cell_type": "code",
   "execution_count": 348,
   "metadata": {
    "collapsed": true
   },
   "outputs": [],
   "source": [
    "PA = data[data.LIMIT_BAL < 200000][\"default.payment.next.month\"].mean()\n",
    "PB = data[data.LIMIT_BAL.between(200000, 399999, inclusive=True)][\"default.payment.next.month\"].mean()\n",
    "PC = data[data.LIMIT_BAL >= 400000][\"default.payment.next.month\"].mean()\n",
    "NA = len(data[data.LIMIT_BAL < 200000])\n",
    "NB = len(data[data.LIMIT_BAL.between(200000, 399999, inclusive=True)])\n",
    "NC = len(data[data.LIMIT_BAL >= 400000])"
   ]
  },
  {
   "cell_type": "code",
   "execution_count": 349,
   "metadata": {},
   "outputs": [
    {
     "name": "stdout",
     "output_type": "stream",
     "text": [
      "PA = 0.26494089317 ; PB = 0.161242937853 ; PC = 0.120529152376\n"
     ]
    }
   ],
   "source": [
    "print (\"PA = \" + str(PA) + \" ; PB = \" + str(PB) + \" ; PC = \" + str(PC))"
   ]
  },
  {
   "cell_type": "code",
   "execution_count": 352,
   "metadata": {},
   "outputs": [
    {
     "name": "stdout",
     "output_type": "stream",
     "text": [
      "18.9948797766 > 1.96 :  Significative at 95% level\n",
      "4.59835163212 > 1.96 :  Significative at 95% level\n"
     ]
    }
   ],
   "source": [
    "print(proportiontest(PA, PB, NA, NB))\n",
    "print(proportiontest(PB, PC, NB, NC))"
   ]
  },
  {
   "cell_type": "markdown",
   "metadata": {},
   "source": [
    "it does seems relevant to divide the dataset in 3 part considering this variable"
   ]
  },
  {
   "cell_type": "code",
   "execution_count": 353,
   "metadata": {
    "collapsed": true
   },
   "outputs": [],
   "source": [
    "groupA = [0]*n\n",
    "groupB = [0]*n\n",
    "for i in range(n):\n",
    "    credit = data.LIMIT_BAL[i]\n",
    "    if credit < 200000:\n",
    "        groupA[i] = 1\n",
    "    elif credit >= 200000 and credit < 400000:\n",
    "        groupB[i] = 1\n",
    "data[\"CREDITA\"] = groupA\n",
    "data[\"CREDITB\"] = groupB"
   ]
  },
  {
   "cell_type": "markdown",
   "metadata": {},
   "source": [
    "# Modeling"
   ]
  },
  {
   "cell_type": "markdown",
   "metadata": {},
   "source": [
    "retained variables : SEX, EDUCATION, MARRIAGE, AGEA, AGEB, PAY0A, PAY0B, GREDITA, CREDITB"
   ]
  },
  {
   "cell_type": "code",
   "execution_count": 313,
   "metadata": {},
   "outputs": [],
   "source": [
    "Y = data[\"default.payment.next.month\"]"
   ]
  },
  {
   "cell_type": "markdown",
   "metadata": {},
   "source": [
    "our first model"
   ]
  },
  {
   "cell_type": "code",
   "execution_count": 354,
   "metadata": {},
   "outputs": [
    {
     "name": "stdout",
     "output_type": "stream",
     "text": [
      "0.818916152676\n"
     ]
    }
   ],
   "source": [
    "X = data[['SEX', 'EDUCATION', 'MARRIAGE', 'AGEA', 'AGEB', 'PAY0A', 'PAY0B', 'CREDITA', 'CREDITB']]\n",
    "scores = cross_val_score(LogisticRegression(), X, Y, scoring='accuracy', cv=10)\n",
    "print scores.mean()"
   ]
  },
  {
   "cell_type": "code",
   "execution_count": 357,
   "metadata": {},
   "outputs": [
    {
     "name": "stdout",
     "output_type": "stream",
     "text": [
      "0.818916152676\n"
     ]
    }
   ],
   "source": [
    "X = data[['PAY0A', 'PAY0B']]\n",
    "scores = cross_val_score(LogisticRegression(), X, Y, scoring='accuracy', cv=10)\n",
    "print scores.mean()"
   ]
  },
  {
   "cell_type": "markdown",
   "metadata": {},
   "source": [
    "we observe that we obtain the same score putting only payment status related variables "
   ]
  },
  {
   "cell_type": "markdown",
   "metadata": {},
   "source": [
    "let now try putting all previous payment status together"
   ]
  },
  {
   "cell_type": "code",
   "execution_count": 359,
   "metadata": {},
   "outputs": [
    {
     "name": "stdout",
     "output_type": "stream",
     "text": [
      "0.819156184041\n"
     ]
    }
   ],
   "source": [
    "X = data[[\"PAY0A\", \"PAY0B\", \"PAY_2\", \"PAY_3\", \"PAY_4\", \"PAY_5\", \"PAY_6\"]]\n",
    "scores = cross_val_score(LogisticRegression(), X, Y, scoring='accuracy', cv=10)\n",
    "print scores.mean()"
   ]
  },
  {
   "cell_type": "markdown",
   "metadata": {},
   "source": [
    "we obtain a better score, it should be interresting to try partitioning all previous month payment status the same way that PAY_0"
   ]
  },
  {
   "cell_type": "markdown",
   "metadata": {},
   "source": [
    "indeed, as follows, dividing payment status in 3 parts gives better scores"
   ]
  },
  {
   "cell_type": "code",
   "execution_count": 360,
   "metadata": {},
   "outputs": [
    {
     "name": "stdout",
     "output_type": "stream",
     "text": [
      "0.807496799018\n"
     ]
    }
   ],
   "source": [
    "X = data[[\"PAY_0\", \"PAY_2\", \"PAY_3\", \"PAY_4\", \"PAY_5\", \"PAY_6\"]]\n",
    "scores = cross_val_score(LogisticRegression(), X, Y, scoring='accuracy', cv=10)\n",
    "print scores.mean()"
   ]
  },
  {
   "cell_type": "code",
   "execution_count": null,
   "metadata": {
    "collapsed": true
   },
   "outputs": [],
   "source": []
  }
 ],
 "metadata": {
  "kernelspec": {
   "display_name": "Python 3",
   "language": "python",
   "name": "python3"
  },
  "language_info": {
   "codemirror_mode": {
    "name": "ipython",
    "version": 3
   },
   "file_extension": ".py",
   "mimetype": "text/x-python",
   "name": "python",
   "nbconvert_exporter": "python",
   "pygments_lexer": "ipython3",
   "version": "3.6.5"
  }
 },
 "nbformat": 4,
 "nbformat_minor": 2
}
